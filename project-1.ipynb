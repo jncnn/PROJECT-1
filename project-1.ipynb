{
 "cells": [
  {
   "cell_type": "markdown",
   "metadata": {},
   "source": [
    "happiness _\n"
   ]
  },
  {
   "cell_type": "code",
   "execution_count": null,
   "metadata": {},
   "outputs": [],
   "source": [
    "#depencies \n",
    "import os\n",
    "import json\n",
    "import random\n",
    "import matplotlib.pyplot as plt\n",
    "import pandas as pd\n",
    "import numpy as np\n",
    "import time\n",
    "import requests\n",
    "import datetime as dt # to put a datestamp on the outputs\n",
    "from pprint import pprint\n",
    "from scipy.stats import linregress\n",
    "from pandas.plotting import radviz\n",
    "import random\n",
    "# Import API key\n",
    "\n",
    "# from api_keys import g_key"
   ]
  },
  {
   "cell_type": "code",
   "execution_count": null,
   "metadata": {},
   "outputs": [],
   "source": [
    "#added 2016/2017/2018 happiness csv\n",
    "file_to_load_1 =\"Resources/2019.csv\"\n",
    "file_to_load_2 =\"Resources/2020.csv\"\n",
    "file_to_load_3 =\"Resources/2018.csv\"\n",
    "file_to_load_4 =\"Resources/2016.csv\"\n",
    "file_to_load_5 =\"Resources/2017.csv\""
   ]
  },
  {
   "cell_type": "code",
   "execution_count": null,
   "metadata": {},
   "outputs": [],
   "source": [
    "#read all csv file\n",
    "happy_19= pd.read_csv(file_to_load_1)\n",
    "happy_18= pd.read_csv(file_to_load_3)\n",
    "happy_16= pd.read_csv(file_to_load_4)\n",
    "happy_17= pd.read_csv(file_to_load_5)\n",
    "happy_20= pd.read_csv(file_to_load_2)"
   ]
  },
  {
   "cell_type": "code",
   "execution_count": null,
   "metadata": {},
   "outputs": [],
   "source": [
    "#basic statistic for all years\n",
    "happy_20.describe()\n"
   ]
  },
  {
   "cell_type": "code",
   "execution_count": null,
   "metadata": {},
   "outputs": [],
   "source": [
    "happy_19.describe()\n"
   ]
  },
  {
   "cell_type": "code",
   "execution_count": null,
   "metadata": {},
   "outputs": [],
   "source": [
    "happy_18.describe()\n",
    "happy_18.head()"
   ]
  },
  {
   "cell_type": "code",
   "execution_count": null,
   "metadata": {},
   "outputs": [],
   "source": [
    "happy_17.describe()\n",
    "happy_17.head()"
   ]
  },
  {
   "cell_type": "code",
   "execution_count": null,
   "metadata": {},
   "outputs": [],
   "source": [
    "happy_16.describe()\n",
    "happy_16.head()\n"
   ]
  },
  {
   "cell_type": "code",
   "execution_count": null,
   "metadata": {},
   "outputs": [],
   "source": [
    "happy_20.columns"
   ]
  },
  {
   "cell_type": "code",
   "execution_count": null,
   "metadata": {},
   "outputs": [],
   "source": [
    "# .rename(columns={}) in order to rename columns\n",
    "renamed19_df = happy_19.rename(columns={\"Country or region\":\"Country name\"})\n",
    "#renamed19_df.head()\n",
    "renamed16_df = happy_16.rename(columns={\"Country\":\"Country name\"})\n",
    "#renamed16_df.head()\n",
    "renamed17_df = happy_17.rename(columns={\"Country\":\"Country name\"})\n",
    "renamed17_df.head()\n",
    "renamed18_df = happy_18.rename(columns={\"Country or region\":\"Country name\"})\n",
    "#renamed18_df.head()"
   ]
  },
  {
   "cell_type": "code",
   "execution_count": null,
   "metadata": {},
   "outputs": [],
   "source": [
    "happy_1617= pd.merge(renamed16_df,renamed17_df, how=\"inner\", on=[\"Country name\"])\n",
    "happy_1617.head()\n",
    "#\n",
    "# happy_1920\n",
    "# happy_5years.head()"
   ]
  },
  {
   "cell_type": "code",
   "execution_count": null,
   "metadata": {},
   "outputs": [],
   "source": [
    "renamed16_df.columns"
   ]
  },
  {
   "cell_type": "code",
   "execution_count": null,
   "metadata": {},
   "outputs": [],
   "source": [
    "data16_17_df = happy_1617.rename(columns={\"Health (Life Expectancy)\":\"Healthy life expectancy 2016\",\n",
    "                                        \"Health..Life.Expectancy.\":\"Healthy life expectancy 2017\",\n",
    "                                        \"Generosity_x\":\"Generosity 2016\",\n",
    "                                        \"Generosity_y\":\"Generosity 2017\",\n",
    "                                        \"Freedom_x\":\"Freedom to make life choices 2016\",\n",
    "                                        \"Freedom_y\":\"Freedom to make life choices 2017\",\n",
    "                                        \"Trust (Government Corruption)\": \"Perceptions of corruption 2016\",\n",
    "                                        \"Trust..Government.Corruption.\": \"Perceptions of corruption 2017\",\n",
    "                                        \"Happiness Score\":\"Score 2016\",\n",
    "                                        \"Happiness.Score\":\"Score 2017\",\n",
    "                                        \"Family_x\":\"Family 2016\",\n",
    "                                        \"Family_y\":\"Family 2017\"})\n",
    "data16_17_df.head()"
   ]
  },
  {
   "cell_type": "code",
   "execution_count": null,
   "metadata": {},
   "outputs": [],
   "source": [
    "happy_1920= pd.merge(happy_20,renamed19_df,how=\"inner\", on=[\"Country name\"])\n",
    "happy_1920.head()"
   ]
  },
  {
   "cell_type": "code",
   "execution_count": null,
   "metadata": {},
   "outputs": [],
   "source": [
    "data19_20_df = happy_1920.rename(columns={\"Social support_x\":\"Social support 2019\",\n",
    "                                        \"Social support_y\":\"Social support 2020\",\n",
    "                                        \"Healthy life expectancy_x\":\"Healthy life expectancy 2019\",\n",
    "                                        \"Healthy life expectancy_y\":\"Healthy life expectancy 2020\",\n",
    "                                        \"Generosity_x\":\"Generosity 2019\",\n",
    "                                        \"Generosity_y\":\"Generosity 2020\",\n",
    "                                        \"Freedom to make life choices_x\":\"Freedom to make life choices 2019\",\n",
    "                                        \"Freedom to make life choices_y\":\"Freedom to make life choices 2020\",\n",
    "                                        \"Perceptions of corruption_x\": \"Perceptions of corruption 2019\",\n",
    "                                        \"Perceptions of corruption_y\": \"Perceptions of corruption 2020\",\n",
    "                                        \"Score\":\"Score 2019\",\n",
    "                                        \"Ladder score\":\"Score 2020\"})\n",
    "data19_20_df.head()"
   ]
  },
  {
   "cell_type": "code",
   "execution_count": null,
   "metadata": {},
   "outputs": [],
   "source": [
    "happy_for= pd.merge(data19_20_df,data16_17_df,how=\"inner\", on=[\"Country name\"])\n",
    "happy_5= pd.merge(happy_for,renamed18_df, how=\"inner\", on=[\"Country name\"])\n",
    "happy_5.head()\n",
    "happy_5.columns"
   ]
  },
  {
   "cell_type": "code",
   "execution_count": null,
   "metadata": {},
   "outputs": [],
   "source": [
    "# test_df.describe()\n",
    "data5_df =happy_5.rename(columns={\"Social support\":\"Social support 2018\",\n",
    "                                  \"Healthy life expectancy\":\"Healthy life expectancy 2018\",\n",
    "                                  \"Generosity\":\"Generosity 2018\",\n",
    "                                  \"Freedom to make life choices\":\"Freedom to make life choices 2018\",             \n",
    "                                  \"Perceptions of corruption\": \"Perceptions of corruption 2018\",             \n",
    "                                  \"Score\":\"Score 2018\"})            \n",
    "                                                \n",
    "                                                \n",
    "                                                \n",
    "data5_df.head()"
   ]
  },
  {
   "cell_type": "code",
   "execution_count": null,
   "metadata": {},
   "outputs": [],
   "source": [
    "data5_df.columns\n",
    "# data5_df.describe()"
   ]
  },
  {
   "cell_type": "code",
   "execution_count": null,
   "metadata": {},
   "outputs": [],
   "source": [
    "#drop columns\n",
    "data_clean=data5_df.drop([\"Overall rank_x\",\"Overall rank_y\",\"Regional indicator\",\\\n",
    "       \"Standard error of ladder score\", 'upperwhisker', 'lowerwhisker',\"Logged GDP per capita\",\\\n",
    "       'Ladder score in Dystopia', 'Explained by: Log GDP per capita',\n",
    "       'Explained by: Social support', 'Explained by: Healthy life expectancy',\n",
    "       'Explained by: Freedom to make life choices',\n",
    "       'Explained by: Generosity', 'Explained by: Perceptions of corruption',\n",
    "       'Dystopia + residual',\"GDP per capita_x\",'Lower Confidence Interval',\n",
    "       'Upper Confidence Interval', 'Economy (GDP per Capita)','Dystopia Residual','Whisker.high', 'Whisker.low',\n",
    "       'Economy..GDP.per.Capita.','Dystopia.Residual',\"GDP per capita_y\",'Family 2017','Family 2016','Social support 2019',\\\n",
    "        'Social support 2020',\"Social support 2018\",'Happiness Rank','Happiness.Rank'],axis=1)\n",
    "data_clean"
   ]
  },
  {
   "cell_type": "code",
   "execution_count": null,
   "metadata": {},
   "outputs": [],
   "source": [
    "data_clean.columns\n"
   ]
  },
  {
   "cell_type": "code",
   "execution_count": null,
   "metadata": {},
   "outputs": [],
   "source": [
    "final_5=data_clean[['Country name','Region',\n",
    "'Score 2016',\n",
    "'Score 2017',\n",
    "'Score 2018',\n",
    "'Score 2019',\n",
    "'Score 2020',\n",
    "'Healthy life expectancy 2016',  \n",
    "'Healthy life expectancy 2017',    \n",
    "'Healthy life expectancy 2018',\n",
    "'Healthy life expectancy 2019',\n",
    "'Healthy life expectancy 2020',\n",
    "'Freedom to make life choices 2016',\n",
    "'Freedom to make life choices 2017',\n",
    "'Freedom to make life choices 2018',\n",
    "'Freedom to make life choices 2019',\n",
    "'Freedom to make life choices 2020',\n",
    "'Generosity 2016',\n",
    "'Generosity 2017',\n",
    "'Generosity 2018',\n",
    "'Generosity 2019',\n",
    "'Generosity 2020',\n",
    "'Perceptions of corruption 2016',\n",
    "'Perceptions of corruption 2017',\n",
    "'Perceptions of corruption 2018',\n",
    "'Perceptions of corruption 2019',\n",
    "'Perceptions of corruption 2020']]\n",
    "final_5.head()"
   ]
  },
  {
   "cell_type": "code",
   "execution_count": null,
   "metadata": {},
   "outputs": [],
   "source": [
    "final_5.describe()"
   ]
  },
  {
   "cell_type": "code",
   "execution_count": null,
   "metadata": {},
   "outputs": [],
   "source": [
    "#2016\n",
    "x_values = final_5[\"Country name\"]\n",
    "y_values = final_5[\"Score 2016\"]\n",
    "plt.figure(figsize=(20,5))\n",
    "plt.scatter(x_values,y_values,alpha=1, edgecolors=\"k\", color=\"blue\" )\n",
    "plt.xticks(rotation=90)\n",
    "plt.title('Happiness by country 2016')\n",
    "plt.xlabel('Country')\n",
    "plt.ylabel('Score')\n",
    "plt.tight_layout()\n",
    "plt.show()\n",
    "\n",
    "#2017\n",
    "x_values = final_5[\"Country name\"]\n",
    "y_values = final_5[\"Score 2017\"]\n",
    "plt.figure(figsize=(20,5))\n",
    "plt.scatter(x_values,y_values,alpha=1, edgecolors=\"k\",color=\"red\" )\n",
    "plt.xticks(rotation=90)\n",
    "plt.title('Happiness by country 2017')\n",
    "plt.xlabel('Country')\n",
    "plt.ylabel('Score')\n",
    "plt.tight_layout()\n",
    "plt.show()\n",
    "\n",
    "#2018\n",
    "x_values = final_5[\"Country name\"]\n",
    "y_values = final_5[\"Score 2018\"]\n",
    "plt.figure(figsize=(20,5))\n",
    "plt.scatter(x_values,y_values,alpha=1, edgecolors=\"k\", color=\"yellow\" )\n",
    "plt.xticks(rotation=90)\n",
    "plt.title('Happiness by country 2018')\n",
    "plt.xlabel('Country')\n",
    "plt.ylabel('Score')\n",
    "plt.tight_layout()\n",
    "plt.show()\n",
    "\n",
    "#2019\n",
    "x_values = final_5[\"Country name\"]\n",
    "y_values = final_5[\"Score 2019\"]\n",
    "plt.figure(figsize=(20,5))\n",
    "plt.scatter(x_values,y_values,alpha=1, edgecolors=\"k\", color=\"green\" )\n",
    "plt.xticks(rotation=90)\n",
    "plt.title('Happiness by country 2019')\n",
    "plt.xlabel('Country')\n",
    "plt.ylabel('Score')\n",
    "plt.tight_layout()\n",
    "plt.show()\n",
    "\n",
    "#2020(covid)\n",
    "x_values = final_5[\"Country name\"]\n",
    "y_values = final_5[\"Score 2020\"]\n",
    "plt.figure(figsize=(20,5))\n",
    "plt.scatter(x_values,y_values,alpha=1, edgecolors=\"k\", color=\"orange\")\n",
    "plt.xticks(rotation=90)\n",
    "plt.title('Happiness by country 2020')\n",
    "plt.xlabel('Country')\n",
    "plt.ylabel('Score')\n",
    "plt.tight_layout()\n",
    "plt.show()\n"
   ]
  },
  {
   "cell_type": "code",
   "execution_count": null,
   "metadata": {},
   "outputs": [],
   "source": [
    "# 2019-2020 before and during covid\n",
    "final_5_df=pd.DataFrame(final_5)\n"
   ]
  },
  {
   "cell_type": "code",
   "execution_count": null,
   "metadata": {},
   "outputs": [],
   "source": [
    "ts = pd.Series(np.random.randn(5),\n",
    "                   index=('2016',\"2017\",\"2018\",\"2019\",\"2020\"))\n",
    "   \n",
    "\n",
    "ts = ts.cumsum()\n",
    "\n",
    "ts.plot()"
   ]
  },
  {
   "cell_type": "code",
   "execution_count": null,
   "metadata": {},
   "outputs": [],
   "source": [
    "#its not that hard if you just spend like 20 mins looking at it then cry\n",
    "# country_to_years = {x[1]['Country name'] : [x[1][f'Score {year}'] for year in range(2016, 2021)] for x in final_5_df.iterrows()}\n",
    "\n",
    "\n",
    "\n",
    "# df = pd.DataFrame(country_to_years, \n",
    "#                   index=('2016',\"2017\",\"2018\",\"2019\",\"2020\"), columns=list('ABCD'))\n",
    "   \n",
    "\n",
    "# df = df.cumsum()\n",
    "\n",
    "# plt.figure();\n",
    "\n",
    "# df.plot();"
   ]
  },
  {
   "cell_type": "code",
   "execution_count": null,
   "metadata": {},
   "outputs": [],
   "source": [
    "# country_to_years = {x[1]['Country name'] : [x[1][f'Score {year}'] for year in range(2016, 2021)] for x in final_5_df.iterrows()}\n",
    "\n",
    "# blahblah = pd.DataFrame(country_to_years, index=('2016',\"2017\",\"2018\",\"2019\",\"2020\"))\n",
    "# plt.figure();\n",
    "\n",
    "# blahblah.plot();"
   ]
  },
  {
   "cell_type": "code",
   "execution_count": null,
   "metadata": {},
   "outputs": [],
   "source": [
    "countries = 8\n",
    "country_to_years = {x[1]['Country name'] : [x[1][f'Score {year}'] for year in range(2016, 2021)] for x in final_5_df.iterrows()}\n",
    "while(len(country_to_years) > countries):\n",
    "    del country_to_years[random.choice(list(country_to_years))]\n",
    "random_country= pd.DataFrame(country_to_years, index=('2016',\"2017\",\"2018\",\"2019\",\"2020\"))\n",
    "plt.figure()\n",
    "\n",
    "random_country.plot();"
   ]
  },
  {
   "cell_type": "code",
   "execution_count": null,
   "metadata": {},
   "outputs": [],
   "source": [
    "ax1=data19_20_df.plot(kind=\"scatter\", x=\"Country name\", y=\"Score 2019\")\n",
    "ax2=data19_20_df.plot(kind=\"scatter\", x=\"Country name\", y= \"Score 2020\",ax=ax1, color=\"red\")\n",
    "print(ax1==ax2)\n"
   ]
  },
  {
   "cell_type": "code",
   "execution_count": null,
   "metadata": {},
   "outputs": [],
   "source": [
    "data19_20_df.plot(kind=\"bar\", x=\"Country name\", y=[\"Score 2019\", \"Score 2020\"])\n"
   ]
  },
  {
   "cell_type": "markdown",
   "metadata": {},
   "source": [
    "1st freedom to happiness"
   ]
  },
  {
   "cell_type": "code",
   "execution_count": null,
   "metadata": {},
   "outputs": [],
   "source": [
    "x_values = data19_20_df[\"Freedom to make life choices 2019\"]\n",
    "y_values = data19_20_df[\"Score 2019\"]\n",
    "(slope, intercept, rvalue, pvalue, stderr) = linregress(x_values, y_values)\n",
    "regress_values = x_values * slope + intercept\n",
    "line_eq = \"y = \" + str(round(slope,2)) + \"x + \" + str(round(intercept,2))\n",
    "plt.plot(x_values,regress_values,\"r-\")\n",
    "plt.annotate(line_eq,(0.0,6),fontsize=12,color=\"red\")\n",
    "plt.scatter(x_values,y_values,alpha=0.5, edgecolors=\"k\")\n",
    "plt.title('Happiness&freedom 2019')\n",
    "plt.xlabel('Freedom to make life choices')\n",
    "plt.ylabel('Score')\n",
    "\n",
    "plt.show()\n",
    "\n",
    "print(rvalue)"
   ]
  },
  {
   "cell_type": "code",
   "execution_count": null,
   "metadata": {},
   "outputs": [],
   "source": [
    "x_values = data19_20_df[\"Freedom to make life choices 2020\"]\n",
    "y_values = data19_20_df[\"Score 2020\"]\n",
    "(slope, intercept, rvalue, pvalue, stderr) = linregress(x_values, y_values)\n",
    "regress_values = x_values * slope + intercept\n",
    "line_eq = \"y = \" + str(round(slope,2)) + \"x + \" + str(round(intercept,2))\n",
    "plt.plot(x_values,regress_values,\"r-\")\n",
    "plt.annotate(line_eq,(0.0,6),fontsize=12,color=\"red\")\n",
    "plt.scatter(x_values,y_values,alpha=0.5, edgecolors=\"k\")\n",
    "plt.title('Happiness&freedom 2020')\n",
    "plt.xlabel('Freedom to make life choices')\n",
    "plt.ylabel('Score')\n",
    "\n",
    "plt.show()\n",
    "\n",
    "print(rvalue)"
   ]
  },
  {
   "cell_type": "code",
   "execution_count": null,
   "metadata": {},
   "outputs": [],
   "source": [
    "x_values = data19_20_df[\"Perceptions of corruption 2019\"]\n",
    "y_values = data19_20_df[\"Score 2019\"]\n",
    "(slope, intercept, rvalue, pvalue, stderr) = linregress(x_values, y_values)\n",
    "regress_values = x_values * slope + intercept\n",
    "line_eq = \"y = \" + str(round(slope,2)) + \"x + \" + str(round(intercept,2))\n",
    "plt.plot(x_values,regress_values,\"r-\")\n",
    "plt.annotate(line_eq,(0.0,6),fontsize=12,color=\"red\")\n",
    "plt.scatter(x_values,y_values,alpha=0.5, edgecolors=\"k\")\n",
    "plt.title('Happiness&corruption 2019')\n",
    "plt.xlabel('Perceptions of corruption 2019')\n",
    "plt.ylabel('Score')\n",
    "\n",
    "plt.show()\n",
    "\n",
    "print(rvalue)"
   ]
  },
  {
   "cell_type": "code",
   "execution_count": null,
   "metadata": {},
   "outputs": [],
   "source": [
    "x_values = data19_20_df[\"Perceptions of corruption 2020\"]\n",
    "y_values = data19_20_df[\"Score 2020\"]\n",
    "(slope, intercept, rvalue, pvalue, stderr) = linregress(x_values, y_values)\n",
    "regress_values = x_values * slope + intercept\n",
    "line_eq = \"y = \" + str(round(slope,2)) + \"x + \" + str(round(intercept,2))\n",
    "plt.plot(x_values,regress_values,\"r-\")\n",
    "plt.annotate(line_eq,(0.0,6),fontsize=12,color=\"red\")\n",
    "plt.scatter(x_values,y_values,alpha=0.5, edgecolors=\"k\")\n",
    "plt.title('Happiness&corruption 2020')\n",
    "plt.xlabel('Perceptions of corruption 2020')\n",
    "plt.ylabel('Score')\n",
    "\n",
    "plt.show()\n",
    "print(rvalue)\n"
   ]
  },
  {
   "cell_type": "code",
   "execution_count": null,
   "metadata": {},
   "outputs": [],
   "source": [
    "x_values = data19_20_df[\"Generosity 2019\"]\n",
    "y_values = data19_20_df[\"Score 2019\"]\n",
    "(slope, intercept, rvalue, pvalue, stderr) = linregress(x_values, y_values)\n",
    "regress_values = x_values * slope + intercept\n",
    "line_eq = \"y = \" + str(round(slope,2)) + \"x + \" + str(round(intercept,2))\n",
    "plt.plot(x_values,regress_values,\"r-\")\n",
    "plt.annotate(line_eq,(0.0,6),fontsize=12,color=\"red\")\n",
    "plt.scatter(x_values,y_values,alpha=0.5, edgecolors=\"k\")\n",
    "plt.title('Generosity &Happines 2019')\n",
    "plt.xlabel('Generosity ')\n",
    "plt.ylabel('Score')\n",
    "\n",
    "plt.show()\n",
    "print(rvalue)"
   ]
  },
  {
   "cell_type": "code",
   "execution_count": null,
   "metadata": {},
   "outputs": [],
   "source": [
    "x_values = data19_20_df[\"Generosity 2020\"]\n",
    "y_values = data19_20_df[\"Score 2020\"]\n",
    "(slope, intercept, rvalue, pvalue, stderr) = linregress(x_values, y_values)\n",
    "regress_values = x_values * slope + intercept\n",
    "line_eq = \"y = \" + str(round(slope,2)) + \"x + \" + str(round(intercept,2))\n",
    "plt.plot(x_values,regress_values,\"r-\")\n",
    "plt.annotate(line_eq,(0.0,6),fontsize=12,color=\"red\")\n",
    "plt.scatter(x_values,y_values,alpha=0.5, edgecolors=\"k\")\n",
    "plt.title('Generosity &Happines 2020')\n",
    "plt.xlabel('Generosity ')\n",
    "plt.ylabel('Score')\n",
    "\n",
    "plt.show()\n",
    "print(rvalue)\n"
   ]
  },
  {
   "cell_type": "code",
   "execution_count": null,
   "metadata": {},
   "outputs": [],
   "source": [
    "#heat map for region \n"
   ]
  },
  {
   "cell_type": "code",
   "execution_count": null,
   "metadata": {},
   "outputs": [],
   "source": [
    "\n"
   ]
  }
 ],
 "metadata": {
  "kernelspec": {
   "display_name": "Python 3",
   "language": "python",
   "name": "python3"
  },
  "language_info": {
   "codemirror_mode": {
    "name": "ipython",
    "version": 3
   },
   "file_extension": ".py",
   "mimetype": "text/x-python",
   "name": "python",
   "nbconvert_exporter": "python",
   "pygments_lexer": "ipython3",
   "version": "3.6.10"
  }
 },
 "nbformat": 4,
 "nbformat_minor": 4
}
