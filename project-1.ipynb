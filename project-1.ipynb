{
 "cells": [
  {
   "cell_type": "markdown",
   "metadata": {},
   "source": [
    "happiness _\n"
   ]
  },
  {
   "cell_type": "code",
   "execution_count": null,
   "metadata": {},
   "outputs": [],
   "source": [
    "#depencies \n",
    "import os\n",
    "import json\n",
    "import random\n",
    "import matplotlib.pyplot as plt\n",
    "import pandas as pd\n",
    "import numpy as np\n",
    "import time\n",
    "import requests\n",
    "import datetime as dt # to put a datestamp on the outputs\n",
    "from pprint import pprint\n",
    "from scipy.stats import linregress\n",
    "\n",
    "# Import API key\n",
    "\n",
    "# from api_keys import g_key"
   ]
  },
  {
   "cell_type": "code",
   "execution_count": null,
   "metadata": {},
   "outputs": [],
   "source": [
    "file_to_load_1 =\"Resources/2019.csv\"\n",
    "file_to_load_2 =\"Resources/2020.csv\"\n"
   ]
  },
  {
   "cell_type": "code",
   "execution_count": null,
   "metadata": {},
   "outputs": [],
   "source": [
    "happy_19= pd.read_csv(file_to_load_1)\n",
    "happy_19.head()"
   ]
  },
  {
   "cell_type": "code",
   "execution_count": null,
   "metadata": {},
   "outputs": [],
   "source": [
    "happy_19.describe()"
   ]
  },
  {
   "cell_type": "code",
   "execution_count": null,
   "metadata": {},
   "outputs": [],
   "source": [
    "happy_20= pd.read_csv(file_to_load_2)\n",
    "happy_20.head()"
   ]
  },
  {
   "cell_type": "code",
   "execution_count": null,
   "metadata": {},
   "outputs": [],
   "source": [
    "happy_20.columns"
   ]
  },
  {
   "cell_type": "code",
   "execution_count": null,
   "metadata": {},
   "outputs": [],
   "source": [
    "# .rename(columns={}) in order to rename columns\n",
    "renamed19_df = happy_19.rename(columns={\"Country or region\":\"Country name\"})\n",
    "renamed19_df.head()"
   ]
  },
  {
   "cell_type": "code",
   "execution_count": null,
   "metadata": {},
   "outputs": [],
   "source": [
    "happy_1920= pd.merge(renamed19_df, happy_20, how=\"inner\", on=[\"Country name\"])\n",
    "happy_1920.head()\n",
    "happy_1920"
   ]
  },
  {
   "cell_type": "code",
   "execution_count": null,
   "metadata": {},
   "outputs": [],
   "source": [
    "test_df=happy_1920.dropna()\n",
    "test_df"
   ]
  },
  {
   "cell_type": "code",
   "execution_count": null,
   "metadata": {},
   "outputs": [],
   "source": [
    "test_df.columns"
   ]
  },
  {
   "cell_type": "code",
   "execution_count": null,
   "metadata": {},
   "outputs": [],
   "source": [
    "# test_df.describe()"
   ]
  },
  {
   "cell_type": "code",
   "execution_count": null,
   "metadata": {},
   "outputs": [],
   "source": [
    "data19_20_df = test_df.rename(columns={\"Social support_x\":\"Social support 2019\",\n",
    "                                        \"Social support_y\":\"Social support 2020\",\n",
    "                                        \"Healthy life expectancy_x\":\"Healthy life expectancy 2019\",\n",
    "                                        \"Healthy life expectancy_y\":\"Healthy life expectancy 2020\",\n",
    "                                        \"Generosity_x\":\"Generosity 2019\",\n",
    "                                        \"Generosity_y\":\"Generosity 2020\",\n",
    "                                        \"Freedom to make life choices_x\":\"Freedom to make life choices 2019\",\n",
    "                                        \"Freedom to make life choices_y\":\"Freedom to make life choices 2020\",\n",
    "                                        \"Perceptions of corruption_x\": \"Perceptions of corruption 2019\",\n",
    "                                        \"Perceptions of corruption_y\": \"Perceptions of corruption 2020\",\n",
    "                                         \"Score\":\"Score 2019\",\n",
    "                                        \"Ladder score\":\"Score 2020\"})\n",
    "data19_20_df.head()"
   ]
  },
  {
   "cell_type": "code",
   "execution_count": null,
   "metadata": {},
   "outputs": [],
   "source": [
    "# data19_20_df.columns"
   ]
  },
  {
   "cell_type": "code",
   "execution_count": null,
   "metadata": {},
   "outputs": [],
   "source": []
  },
  {
   "cell_type": "code",
   "execution_count": null,
   "metadata": {},
   "outputs": [],
   "source": []
  },
  {
   "cell_type": "code",
   "execution_count": null,
   "metadata": {},
   "outputs": [],
   "source": [
    "x_values = data19_20_df[\"Country name\"]\n",
    "y_values = data19_20_df[\"Score 2019\"]\n",
    "plt.scatter(x_values,y_values,alpha=0.5, edgecolors=\"k\")\n",
    "\n",
    "\n",
    "\n",
    "plt.title('Happiness by country 2019')\n",
    "plt.xlabel('Country')\n",
    "plt.ylabel('Score')\n",
    "\n",
    "plt.show()"
   ]
  },
  {
   "cell_type": "code",
   "execution_count": null,
   "metadata": {},
   "outputs": [],
   "source": [
    "x_values = data19_20_df[\"Country name\"]\n",
    "y_values = data19_20_df[\"Score 2020\"]\n",
    "plt.scatter(x_values,y_values,alpha=0.5, edgecolors=\"k\")\n",
    "plt.title('Happiness by country 2020')\n",
    "plt.xlabel('Country')\n",
    "plt.ylabel('Score')\n",
    "\n",
    "plt.show()"
   ]
  },
  {
   "cell_type": "code",
   "execution_count": null,
   "metadata": {},
   "outputs": [],
   "source": [
    "ax1=data19_20_df.plot(kind=\"scatter\", x=\"Country name\", y=\"Score 2019\")\n",
    "ax2=data19_20_df.plot(kind=\"scatter\", x=\"Country name\", y= \"Score 2020\",ax=ax1, color=\"red\")\n",
    "print(ax1==ax2)\n"
   ]
  },
  {
   "cell_type": "code",
   "execution_count": null,
   "metadata": {},
   "outputs": [],
   "source": [
    "data19_20_df.plot(kind=\"bar\", x=\"Country name\", y=[\"Score 2019\", \"Score 2020\"])\n"
   ]
  },
  {
   "cell_type": "markdown",
   "metadata": {},
   "source": [
    "1st freedom to happiness"
   ]
  },
  {
   "cell_type": "code",
   "execution_count": null,
   "metadata": {},
   "outputs": [],
   "source": [
    "x_values = data19_20_df[\"Freedom to make life choices 2019\"]\n",
    "y_values = data19_20_df[\"Score 2019\"]\n",
    "(slope, intercept, rvalue, pvalue, stderr) = linregress(x_values, y_values)\n",
    "regress_values = x_values * slope + intercept\n",
    "line_eq = \"y = \" + str(round(slope,2)) + \"x + \" + str(round(intercept,2))\n",
    "plt.plot(x_values,regress_values,\"r-\")\n",
    "plt.annotate(line_eq,(0.0,6),fontsize=12,color=\"red\")\n",
    "plt.scatter(x_values,y_values,alpha=0.5, edgecolors=\"k\")\n",
    "plt.title('Happiness&freedom 2019')\n",
    "plt.xlabel('Freedom to make life choices')\n",
    "plt.ylabel('Score')\n",
    "\n",
    "plt.show()\n",
    "\n",
    "print(rvalue)"
   ]
  },
  {
   "cell_type": "code",
   "execution_count": null,
   "metadata": {},
   "outputs": [],
   "source": [
    "x_values = data19_20_df[\"Freedom to make life choices 2020\"]\n",
    "y_values = data19_20_df[\"Score 2020\"]\n",
    "(slope, intercept, rvalue, pvalue, stderr) = linregress(x_values, y_values)\n",
    "regress_values = x_values * slope + intercept\n",
    "line_eq = \"y = \" + str(round(slope,2)) + \"x + \" + str(round(intercept,2))\n",
    "plt.plot(x_values,regress_values,\"r-\")\n",
    "plt.annotate(line_eq,(0.0,6),fontsize=12,color=\"red\")\n",
    "plt.scatter(x_values,y_values,alpha=0.5, edgecolors=\"k\")\n",
    "plt.title('Happiness&freedom 2020')\n",
    "plt.xlabel('Freedom to make life choices')\n",
    "plt.ylabel('Score')\n",
    "\n",
    "plt.show()\n",
    "\n",
    "print(rvalue)"
   ]
  },
  {
   "cell_type": "code",
   "execution_count": null,
   "metadata": {},
   "outputs": [],
   "source": [
    "x_values = data19_20_df[\"Perceptions of corruption 2019\"]\n",
    "y_values = data19_20_df[\"Score 2019\"]\n",
    "(slope, intercept, rvalue, pvalue, stderr) = linregress(x_values, y_values)\n",
    "regress_values = x_values * slope + intercept\n",
    "line_eq = \"y = \" + str(round(slope,2)) + \"x + \" + str(round(intercept,2))\n",
    "plt.plot(x_values,regress_values,\"r-\")\n",
    "plt.annotate(line_eq,(0.0,6),fontsize=12,color=\"red\")\n",
    "plt.scatter(x_values,y_values,alpha=0.5, edgecolors=\"k\")\n",
    "plt.title('Happiness&corruption 2019')\n",
    "plt.xlabel('Perceptions of corruption 2019')\n",
    "plt.ylabel('Score')\n",
    "\n",
    "plt.show()\n",
    "\n",
    "print(rvalue)"
   ]
  },
  {
   "cell_type": "code",
   "execution_count": null,
   "metadata": {},
   "outputs": [],
   "source": [
    "x_values = data19_20_df[\"Perceptions of corruption 2020\"]\n",
    "y_values = data19_20_df[\"Score 2020\"]\n",
    "(slope, intercept, rvalue, pvalue, stderr) = linregress(x_values, y_values)\n",
    "regress_values = x_values * slope + intercept\n",
    "line_eq = \"y = \" + str(round(slope,2)) + \"x + \" + str(round(intercept,2))\n",
    "plt.plot(x_values,regress_values,\"r-\")\n",
    "plt.annotate(line_eq,(0.0,6),fontsize=12,color=\"red\")\n",
    "plt.scatter(x_values,y_values,alpha=0.5, edgecolors=\"k\")\n",
    "plt.title('Happiness&corruption 2020')\n",
    "plt.xlabel('Perceptions of corruption 2020')\n",
    "plt.ylabel('Score')\n",
    "\n",
    "plt.show()\n",
    "print(rvalue)\n"
   ]
  },
  {
   "cell_type": "code",
   "execution_count": null,
   "metadata": {},
   "outputs": [],
   "source": [
    "x_values = data19_20_df[\"Generosity 2019\"]\n",
    "y_values = data19_20_df[\"Score 2019\"]\n",
    "(slope, intercept, rvalue, pvalue, stderr) = linregress(x_values, y_values)\n",
    "regress_values = x_values * slope + intercept\n",
    "line_eq = \"y = \" + str(round(slope,2)) + \"x + \" + str(round(intercept,2))\n",
    "plt.plot(x_values,regress_values,\"r-\")\n",
    "plt.annotate(line_eq,(0.0,6),fontsize=12,color=\"red\")\n",
    "plt.scatter(x_values,y_values,alpha=0.5, edgecolors=\"k\")\n",
    "plt.title('Generosity &Happines 2019')\n",
    "plt.xlabel('Generosity ')\n",
    "plt.ylabel('Score')\n",
    "\n",
    "plt.show()\n",
    "print(rvalue)"
   ]
  },
  {
   "cell_type": "code",
   "execution_count": null,
   "metadata": {},
   "outputs": [],
   "source": [
    "x_values = data19_20_df[\"Generosity 2020\"]\n",
    "y_values = data19_20_df[\"Score 2020\"]\n",
    "(slope, intercept, rvalue, pvalue, stderr) = linregress(x_values, y_values)\n",
    "regress_values = x_values * slope + intercept\n",
    "line_eq = \"y = \" + str(round(slope,2)) + \"x + \" + str(round(intercept,2))\n",
    "plt.plot(x_values,regress_values,\"r-\")\n",
    "plt.annotate(line_eq,(0.0,6),fontsize=12,color=\"red\")\n",
    "plt.scatter(x_values,y_values,alpha=0.5, edgecolors=\"k\")\n",
    "plt.title('Generosity &Happines 2020')\n",
    "plt.xlabel('Generosity ')\n",
    "plt.ylabel('Score')\n",
    "\n",
    "plt.show()\n",
    "print(rvalue)\n"
   ]
  },
  {
   "cell_type": "code",
   "execution_count": null,
   "metadata": {},
   "outputs": [],
   "source": [
    "#heat map for region "
   ]
  }
 ],
 "metadata": {
  "kernelspec": {
   "display_name": "Python 3",
   "language": "python",
   "name": "python3"
  },
  "language_info": {
   "codemirror_mode": {
    "name": "ipython",
    "version": 3
   },
   "file_extension": ".py",
   "mimetype": "text/x-python",
   "name": "python",
   "nbconvert_exporter": "python",
   "pygments_lexer": "ipython3",
   "version": "3.6.10"
  }
 },
 "nbformat": 4,
 "nbformat_minor": 4
}
