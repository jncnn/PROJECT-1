{
 "cells": [
  {
   "cell_type": "markdown",
   "metadata": {},
   "source": [
    "### The World Happiness Report Data Analysis¶"
   ]
  },
  {
   "cell_type": "markdown",
   "metadata": {},
   "source": [
    "###  Null Hypothesis\n"
   ]
  },
  {
   "cell_type": "raw",
   "metadata": {},
   "source": [
    "\n",
    "Table of Contents\n",
    "A.Importing, cleaning,merging  and numerical summaries.\n",
    "\n",
    "B. \n",
    "C.\n",
    "E. \n",
    "F. \n",
    "G. \n",
    "H. "
   ]
  },
  {
   "cell_type": "code",
   "execution_count": null,
   "metadata": {},
   "outputs": [],
   "source": [
    "#depencies \n",
    "import os\n",
    "import json\n",
    "import random\n",
    "import matplotlib.pyplot as plt\n",
    "import pandas as pd\n",
    "import numpy as np\n",
    "import time\n",
    "import requests\n",
    "import datetime as dt # to put a datestamp on the outputs\n",
    "from pprint import pprint\n",
    "from scipy.stats import linregress\n",
    "import scipy.stats as stats\n",
    "from pandas.plotting import radviz\n",
    "import random\n",
    "import seaborn as sns\n",
    "import gmaps\n",
    "from api_keys import g_key"
   ]
  },
  {
   "cell_type": "code",
   "execution_count": null,
   "metadata": {},
   "outputs": [],
   "source": [
    "#loaded all csv files in Jupyter notebook\n",
    "file_to_load_1 =\"Resources/2019.csv\"\n",
    "file_to_load_2 =\"Resources/2020.csv\"\n",
    "file_to_load_3 =\"Resources/2018.csv\"\n",
    "file_to_load_4 =\"Resources/2016.csv\"\n",
    "file_to_load_5 =\"Resources/2017.csv\""
   ]
  },
  {
   "cell_type": "code",
   "execution_count": null,
   "metadata": {},
   "outputs": [],
   "source": [
    "#read all csv files\n",
    "happy_19= pd.read_csv(file_to_load_1)\n",
    "happy_18= pd.read_csv(file_to_load_3)\n",
    "happy_16= pd.read_csv(file_to_load_4)\n",
    "happy_17= pd.read_csv(file_to_load_5)\n",
    "happy_20= pd.read_csv(file_to_load_2)"
   ]
  },
  {
   "cell_type": "code",
   "execution_count": null,
   "metadata": {},
   "outputs": [],
   "source": [
    "#basic statistic summary for all years and want to see our csv files\n",
    "# happy_16.describe()\n",
    "# happy_16.head()\n",
    "# happy_17.describe()\n",
    "# happy_17.head()\n",
    "# happy_18.describe()\n",
    "# happy_18.head()\n",
    "# happy_19.describe()\n",
    "# happy_19.head()\n",
    "# happy_20.describe()\n",
    "# happy_20.head()\n",
    "#we can remove this one \n",
    "#check the columns name using dataframe.colums() and rename it"
   ]
  },
  {
   "cell_type": "code",
   "execution_count": null,
   "metadata": {},
   "outputs": [],
   "source": [
    "#happy_20.columns"
   ]
  },
  {
   "cell_type": "code",
   "execution_count": null,
   "metadata": {},
   "outputs": [],
   "source": [
    "\"\"\"merge on [\"Country name\"] and rename \"Country or Region\"/\"Country\":\"Country name\" for 2016/2017/2018/2019\n",
    "df1=df.rename(columns={\"\":\"\", })  in order to rename columns\"\"\"\n",
    "\n",
    "renamed19_df = happy_19.rename(columns={\"Country or region\":\"Country name\"})\n",
    "#renamed19_df.head()\n",
    "renamed16_df = happy_16.rename(columns={\"Country\":\"Country name\"})\n",
    "#renamed16_df.head()\n",
    "renamed17_df = happy_17.rename(columns={\"Country\":\"Country name\"})\n",
    "#renamed17_df.head()\n",
    "renamed18_df = happy_18.rename(columns={\"Country or region\":\"Country name\"})\n",
    "#renamed18_df.head()"
   ]
  },
  {
   "cell_type": "code",
   "execution_count": null,
   "metadata": {},
   "outputs": [],
   "source": [
    "#merged csv 2016/2017 on country name , how =inner()\n",
    "happy_1617= pd.merge(renamed16_df,renamed17_df, how=\"inner\", on=[\"Country name\"])\n",
    "happy_1617.head(2)\n"
   ]
  },
  {
   "cell_type": "code",
   "execution_count": null,
   "metadata": {},
   "outputs": [],
   "source": [
    "#CHECK TO COLUMNS NAMES AND RENAME THEM\n",
    "#renamed16_df.columns"
   ]
  },
  {
   "cell_type": "code",
   "execution_count": null,
   "metadata": {},
   "outputs": [],
   "source": [
    "#Rename merge data columns\n",
    "data16_17_df = happy_1617.rename(columns={\"Health (Life Expectancy)\":\"Healthy life expectancy 2016\",\n",
    "                                        \"Health..Life.Expectancy.\":\"Healthy life expectancy 2017\",\n",
    "                                        \"Generosity_x\":\"Generosity 2016\",\n",
    "                                        \"Generosity_y\":\"Generosity 2017\",\n",
    "                                        \"Freedom_x\":\"Freedom to make life choices 2016\",\n",
    "                                        \"Freedom_y\":\"Freedom to make life choices 2017\",\n",
    "                                        \"Trust (Government Corruption)\": \"Perceptions of corruption 2016\",\n",
    "                                        \"Trust..Government.Corruption.\": \"Perceptions of corruption 2017\",\n",
    "                                        \"Happiness Score\":\"Score 2016\",\n",
    "                                        \"Happiness.Score\":\"Score 2017\",\n",
    "                                        \"Family_x\":\"Family 2016\",\n",
    "                                        \"Family_y\":\"Family 2017\"})\n",
    "data16_17_df.head(2)"
   ]
  },
  {
   "cell_type": "code",
   "execution_count": null,
   "metadata": {},
   "outputs": [],
   "source": [
    "#merge 2019-2020 on country name, how=inner\n",
    "happy_1920= pd.merge(happy_20,renamed19_df,how=\"inner\", on=[\"Country name\"])\n",
    "happy_1920.head(2)\n",
    "#happy_1920.columns()"
   ]
  },
  {
   "cell_type": "code",
   "execution_count": null,
   "metadata": {},
   "outputs": [],
   "source": [
    "#rename the columns \n",
    "data19_20_df = happy_1920.rename(columns={\"Social support_x\":\"Social support 2019\",\n",
    "                                        \"Social support_y\":\"Social support 2020\",\n",
    "                                        \"Healthy life expectancy_x\":\"Healthy life expectancy 2019\",\n",
    "                                        \"Healthy life expectancy_y\":\"Healthy life expectancy 2020\",\n",
    "                                        \"Generosity_x\":\"Generosity 2019\",\n",
    "                                        \"Generosity_y\":\"Generosity 2020\",\n",
    "                                        \"Freedom to make life choices_x\":\"Freedom to make life choices 2019\",\n",
    "                                        \"Freedom to make life choices_y\":\"Freedom to make life choices 2020\",\n",
    "                                        \"Perceptions of corruption_x\": \"Perceptions of corruption 2019\",\n",
    "                                        \"Perceptions of corruption_y\": \"Perceptions of corruption 2020\",\n",
    "                                        \"Score\":\"Score 2019\",\n",
    "                                        \"Ladder score\":\"Score 2020\"})\n",
    "data19_20_df.head(2)"
   ]
  },
  {
   "cell_type": "code",
   "execution_count": null,
   "metadata": {},
   "outputs": [],
   "source": [
    "#merging 2016-2017/2019-2020(merged 2 by 2 )\n",
    "happy_for= pd.merge(data19_20_df,data16_17_df,how=\"inner\", on=[\"Country name\"])\n",
    "#FINAL MERGE\n",
    "happy_5= pd.merge(happy_for,renamed18_df, how=\"inner\", on=[\"Country name\"])\n",
    "#happy_5.head(1)\n",
    "#happy_5.columns"
   ]
  },
  {
   "cell_type": "code",
   "execution_count": null,
   "metadata": {},
   "outputs": [],
   "source": [
    "# final renaming columns for 2018\n",
    "data5_df =happy_5.rename(columns={\"Social support\":\"Social support 2018\",\n",
    "                                  \"Healthy life expectancy\":\"Healthy life expectancy 2018\",\n",
    "                                  \"Generosity\":\"Generosity 2018\",\n",
    "                                  \"Freedom to make life choices\":\"Freedom to make life choices 2018\",             \n",
    "                                  \"Perceptions of corruption\": \"Perceptions of corruption 2018\",             \n",
    "                                  \"Score\":\"Score 2018\"})            \n",
    "#data5_df.head(2)"
   ]
  },
  {
   "cell_type": "code",
   "execution_count": null,
   "metadata": {},
   "outputs": [],
   "source": [
    "#data5_df.columns\n",
    "#data5_df.describe()"
   ]
  },
  {
   "cell_type": "code",
   "execution_count": null,
   "metadata": {},
   "outputs": [],
   "source": [
    "#drop columns that we won't use\n",
    "data_clean=data5_df.drop([\"Overall rank_x\",\"Overall rank_y\",\"Regional indicator\",\\\n",
    "       \"Standard error of ladder score\", 'upperwhisker', 'lowerwhisker',\"Logged GDP per capita\",\\\n",
    "       'Ladder score in Dystopia', 'Explained by: Log GDP per capita',\n",
    "       'Explained by: Social support', 'Explained by: Healthy life expectancy',\n",
    "       'Explained by: Freedom to make life choices',\n",
    "       'Explained by: Generosity', 'Explained by: Perceptions of corruption',\n",
    "       'Dystopia + residual',\"GDP per capita_x\",'Lower Confidence Interval',\n",
    "       'Upper Confidence Interval', 'Economy (GDP per Capita)','Dystopia Residual','Whisker.high', 'Whisker.low',\n",
    "       'Economy..GDP.per.Capita.','Dystopia.Residual',\"GDP per capita_y\",'Family 2017','Family 2016','Social support 2019',\\\n",
    "        'Social support 2020',\"Social support 2018\",'Happiness Rank','Happiness.Rank'],axis=1)\n",
    "data_clean.head(2)"
   ]
  },
  {
   "cell_type": "code",
   "execution_count": null,
   "metadata": {},
   "outputs": [],
   "source": [
    "#check columns names and decide order\n",
    "#data_clean.columns\n",
    "#country name/region/score/health/freedom/Generosity/Perceptions of corruption"
   ]
  },
  {
   "cell_type": "code",
   "execution_count": null,
   "metadata": {},
   "outputs": [],
   "source": [
    "#organized the data frame in order \n",
    "final_5=data_clean[['Country name','Region',\n",
    "'Score 2016',\n",
    "'Score 2017',\n",
    "'Score 2018',\n",
    "'Score 2019',\n",
    "'Score 2020',\n",
    "'Healthy life expectancy 2016',  \n",
    "'Healthy life expectancy 2017',    \n",
    "'Healthy life expectancy 2018',\n",
    "'Healthy life expectancy 2019',\n",
    "'Healthy life expectancy 2020',\n",
    "'Freedom to make life choices 2016',\n",
    "'Freedom to make life choices 2017',\n",
    "'Freedom to make life choices 2018',\n",
    "'Freedom to make life choices 2019',\n",
    "'Freedom to make life choices 2020',\n",
    "'Generosity 2016',\n",
    "'Generosity 2017',\n",
    "'Generosity 2018',\n",
    "'Generosity 2019',\n",
    "'Generosity 2020',\n",
    "'Perceptions of corruption 2016',\n",
    "'Perceptions of corruption 2017',\n",
    "'Perceptions of corruption 2018',\n",
    "'Perceptions of corruption 2019',\n",
    "'Perceptions of corruption 2020']]\n",
    "final_5.head(2)"
   ]
  },
  {
   "cell_type": "code",
   "execution_count": null,
   "metadata": {},
   "outputs": [],
   "source": [
    "#statistical summary\n",
    "final_5.describe()"
   ]
  },
  {
   "cell_type": "markdown",
   "metadata": {},
   "source": [
    "### Scatter plots and Statistics "
   ]
  },
  {
   "cell_type": "markdown",
   "metadata": {},
   "source": [
    "This code will create  matrics of scatter plots(25*25), looks fancy but no need to used it. \n",
    " #import seaborn as sns\n",
    " #sns.pairplot(final_5)"
   ]
  },
  {
   "cell_type": "code",
   "execution_count": null,
   "metadata": {},
   "outputs": [],
   "source": [
    "#USED FINAL_5 DATAFRAME NAME\n",
    "#2016\n",
    "x_values = final_5[\"Country name\"]\n",
    "y_values = final_5[\"Score 2016\"]\n",
    "plt.figure(figsize=(20,5))\n",
    "plt.scatter(x_values,y_values,alpha=1, edgecolors=\"k\", color=\"blue\" )\n",
    "plt.xticks(rotation=90)\n",
    "plt.title('Happiness by country 2016')\n",
    "plt.xlabel('Country')\n",
    "plt.ylabel('Score')\n",
    "plt.tight_layout()\n",
    "plt.show()\n",
    "\n",
    "#2017\n",
    "x_values = final_5[\"Country name\"]\n",
    "y_values = final_5[\"Score 2017\"]\n",
    "plt.figure(figsize=(20,5))\n",
    "plt.scatter(x_values,y_values,alpha=1, edgecolors=\"k\",color=\"red\" )\n",
    "plt.xticks(rotation=90)\n",
    "plt.title('Happiness by country 2017')\n",
    "plt.xlabel('Country')\n",
    "plt.ylabel('Score')\n",
    "plt.tight_layout()\n",
    "plt.show()\n",
    "\n",
    "#2018\n",
    "x_values = final_5[\"Country name\"]\n",
    "y_values = final_5[\"Score 2018\"]\n",
    "plt.figure(figsize=(20,5))\n",
    "plt.scatter(x_values,y_values,alpha=1, edgecolors=\"k\", color=\"yellow\" )\n",
    "plt.xticks(rotation=90)\n",
    "plt.title('Happiness by country 2018')\n",
    "plt.xlabel('Country')\n",
    "plt.ylabel('Score')\n",
    "plt.tight_layout()\n",
    "plt.show()\n",
    "\n",
    "#2019\n",
    "x_values = final_5[\"Country name\"]\n",
    "y_values = final_5[\"Score 2019\"]\n",
    "plt.figure(figsize=(20,5))\n",
    "plt.scatter(x_values,y_values,alpha=1, edgecolors=\"k\", color=\"green\" )\n",
    "plt.xticks(rotation=90)\n",
    "plt.title('Happiness by country 2019')\n",
    "plt.xlabel('Country')\n",
    "plt.ylabel('Score')\n",
    "plt.tight_layout()\n",
    "plt.show()\n",
    "\n",
    "#2020(covid)\n",
    "x_values = final_5[\"Country name\"]\n",
    "y_values = final_5[\"Score 2020\"]\n",
    "plt.figure(figsize=(20,5))\n",
    "plt.scatter(x_values,y_values,alpha=1, edgecolors=\"k\", color=\"orange\")\n",
    "plt.xticks(rotation=90)\n",
    "plt.title('Happiness by country 2020')\n",
    "plt.xlabel('Country')\n",
    "plt.ylabel('Score')\n",
    "plt.tight_layout()\n",
    "plt.show()\n"
   ]
  },
  {
   "cell_type": "code",
   "execution_count": null,
   "metadata": {},
   "outputs": [],
   "source": [
    "final_5_df=pd.DataFrame(final_5)"
   ]
  },
  {
   "cell_type": "markdown",
   "metadata": {},
   "source": [
    "### 1) Null Hypothesis :Happiness score will be similar 2016 through 2020 for each country."
   ]
  },
  {
   "cell_type": "code",
   "execution_count": null,
   "metadata": {},
   "outputs": [],
   "source": [
    "group_1=final_5[\"Score 2016\"]\n",
    "group_2=final_5[\"Score 2017\"]\n",
    "group_3=final_5[\"Score 2018\"]\n",
    "group_4=final_5[\"Score 2019\"]\n",
    "group_5=final_5[\"Score 2020\"]"
   ]
  },
  {
   "cell_type": "code",
   "execution_count": null,
   "metadata": {},
   "outputs": [],
   "source": [
    "stats.f_oneway(group_1,group_2,group_3,group_4, group_5)"
   ]
  },
  {
   "cell_type": "code",
   "execution_count": null,
   "metadata": {},
   "outputs": [],
   "source": [
    "final_5.boxplot(column=[\"Score 2016\",\"Score 2017\",\"Score 2018\", \"Score 2019\", \"Score 2020\"],figsize=(10,4))"
   ]
  },
  {
   "cell_type": "markdown",
   "metadata": {},
   "source": [
    "##### We will  fail to reject the Null hypothesis.\n",
    "pvalue>.05 If the p-value is larger than 0.05, \n",
    "we cannot conclude that a significant difference exists 2016 through 2020."
   ]
  },
  {
   "cell_type": "code",
   "execution_count": null,
   "metadata": {},
   "outputs": [],
   "source": [
    "#country names become columns names and score years become rows\n",
    "countries = 5\n",
    "country_to_years = {x[1]['Country name'] : [x[1][f'Score {year}'] for year in range(2016, 2021)] for x in final_5_df.iterrows()}\n",
    "while(len(country_to_years) > countries):\n",
    "    del country_to_years[random.choice(list(country_to_years))]\n",
    "random_country= pd.DataFrame(country_to_years, index=('2016',\"2017\",\"2018\",\"2019\",\"2020\"))\n",
    "plt.figure()\n",
    "\n",
    "random_country.plot(subplots=True, figsize=(5, 10));\n",
    "#random_country.plot();"
   ]
  },
  {
   "cell_type": "markdown",
   "metadata": {},
   "source": [
    "### 2) Null hypothesis:Happiness score will be same 2019 and 2020 even if COVID-19."
   ]
  },
  {
   "cell_type": "code",
   "execution_count": null,
   "metadata": {},
   "outputs": [],
   "source": [
    "#Happyness score before and after covid\n",
    "#blue dot for 2019. yellow for 2020\n",
    "#added figsize(20,5),title,labels\n",
    "ax1=final_5_df.plot(kind=\"scatter\", x=\"Country name\", y=\"Score 2019\")\n",
    "ax2=final_5_df.plot(kind=\"scatter\", x=\"Country name\", y= \"Score 2020\",ax=ax1, color=\"yellow\", figsize=(20,5))\n",
    "plt.xticks(rotation=90)\n",
    "print(ax1==ax2)\n",
    "plt.title('Happiness Score Before and During Covid-19 by Country')\n",
    "plt.xlabel('Country')\n",
    "plt.ylabel('Score 2019-2020')\n",
    "plt.tight_layout()\n"
   ]
  },
  {
   "cell_type": "code",
   "execution_count": null,
   "metadata": {},
   "outputs": [],
   "source": [
    "#Annova test (group_4-2019, group_2020)\n",
    "stats.f_oneway(group_4, group_5)\n"
   ]
  },
  {
   "cell_type": "markdown",
   "metadata": {},
   "source": [
    "pvalue=.6935 and >.005 \n",
    "As results of our statistical variable p, we will fail to reject the Null hypothesis.\n",
    "pvalue=.6935>.05 \n",
    "If the p-value is larger than 0.05, we cannot conclude that a significant difference exists between data( 2019 and 2020)\n",
    "Because of covid-19 most of the countries had some type of lock downs, school closings(online education),\n",
    "limited social activities,travel restriction, and lot of canceled events(funeral,wedding,doctor appoinment).\n",
    "Covid-19 pandemic did not affect people happiness score.\n",
    "(My assumption was opposite of null hypothesis but numbers never lie)"
   ]
  },
  {
   "cell_type": "markdown",
   "metadata": {},
   "source": [
    "\n",
    "### 3) Null hypothesis=Freedom to make life choices score will be same 2019-2020(before and during pandemic)\n",
    " "
   ]
  },
  {
   "cell_type": "code",
   "execution_count": null,
   "metadata": {},
   "outputs": [],
   "source": [
    "ax1=final_5.plot(kind=\"scatter\", x=\"Country name\", y=\"Freedom to make life choices 2019\")\n",
    "ax2=final_5.plot(kind=\"scatter\", x=\"Country name\", y= \"Freedom to make life choices 2020\",\n",
    "                      ax=ax1, color=\"yellow\", figsize=(20,5))\n",
    "plt.xticks(rotation=90)\n",
    "print(ax1==ax2)\n",
    "plt.title('Freedom to make life choices (2019-2020)')\n",
    "plt.xlabel('Country')\n",
    "plt.ylabel('Freedom to make life choices')\n",
    "plt.tight_layout()\n",
    "#blue 2019\n",
    "#yellow 2020"
   ]
  },
  {
   "cell_type": "raw",
   "metadata": {},
   "source": [
    "# Freedom to make life choices scores by countries drop for every single countries.\n",
    "Let's see statistic ways.\n"
   ]
  },
  {
   "cell_type": "code",
   "execution_count": null,
   "metadata": {},
   "outputs": [],
   "source": [
    "group_6=final_5[\"Freedom to make life choices 2016\"]\n",
    "group_7=final_5[\"Freedom to make life choices 2017\"]\n",
    "group_8=final_5[\"Freedom to make life choices 2018\"]\n",
    "group_9=final_5[\"Freedom to make life choices 2019\"]\n",
    "group_10=final_5[\"Freedom to make life choices 2020\"]\n"
   ]
  },
  {
   "cell_type": "code",
   "execution_count": null,
   "metadata": {},
   "outputs": [],
   "source": [
    "#before and during the pandemic\n",
    "stats.f_oneway(group_9, group_10)\n"
   ]
  },
  {
   "cell_type": "markdown",
   "metadata": {},
   "source": [
    "pvalue=8.059397457860258e-73(e-73=10^-73)\n",
    "pvalue<.05 and we will reject the null hypotesis.\n",
    "End of 2019 , Covid 19 virus started to spread all over the world as results of global pandemic most of the countries \n",
    "decleared the lock-down, travel restriction, shot down the none-essential work places to slow down spread of covid-19 virus,\n",
    "All type of education from pre-k to college levels converted into online classes\n"
   ]
  },
  {
   "cell_type": "code",
   "execution_count": null,
   "metadata": {},
   "outputs": [],
   "source": [
    "final_5.boxplot(column=[\"Freedom to make life choices 2019\",\n",
    "                       \"Freedom to make life choices 2020\"],figsize=(8,3))\n",
    "plt.xticks(rotation=0)"
   ]
  },
  {
   "cell_type": "code",
   "execution_count": null,
   "metadata": {},
   "outputs": [],
   "source": [
    "#random countries Freedom to make life choices last 5 years (RANGE(0-1)\n",
    "countries = 5\n",
    "country_to_years = {x[1]['Country name'] : [x[1][f'Freedom to make life choices {year}'] for year in range(2016, 2021)] for x in final_5_df.iterrows()}\n",
    "while(len(country_to_years) > countries):\n",
    "    del country_to_years[random.choice(list(country_to_years))]\n",
    "random_country= pd.DataFrame(country_to_years, index=('2016',\"2017\",\"2018\",\"2019\",\"2020\"))\n",
    "plt.figure()\n",
    "\n",
    "random_country.plot(subplots=True, figsize=(5, 10));\n",
    "#random_country.plot();(gives 8 countries in one graph)"
   ]
  },
  {
   "cell_type": "markdown",
   "metadata": {},
   "source": [
    "Freedom to make life choices decreased sharply 2019 to 2020 because of the pandemic(covid-19) \n",
    "Also \"Freedom to make life choices\" increased drastically 2018 to 2019 most the countries but no clue."
   ]
  },
  {
   "cell_type": "markdown",
   "metadata": {},
   "source": [
    "## Independent t-testing  Corruption-Happiness 2020\n",
    "### Null Hypothesis :Corruption scores will not affect the happines score in 2020"
   ]
  },
  {
   "cell_type": "code",
   "execution_count": null,
   "metadata": {},
   "outputs": [],
   "source": [
    "# Calculate the population mean for government\n",
    "population1 = final_5[\"Score 2020\"]\n",
    "#print(population1)\n",
    "population1.mean()\n",
    "population2 = final_5[\"Perceptions of corruption 2020\"]\n",
    "#print(population2)\n",
    "population2.mean()\n",
    "# Calculate Independent (Two Sample) t-test\n",
    "stats.ttest_ind(population1, population2, equal_var=False)"
   ]
  },
  {
   "cell_type": "markdown",
   "metadata": {},
   "source": [
    "***T  TEST INDICATE THAT THESE TWO POPULATION (HAPPINESS & Corruption) SHOULD HAVE BE EQUAL.\n",
    "\n",
    "IN CONCLUSION, WE REJECT THE NULL HYPOTHESIS.(p<.05)"
   ]
  },
  {
   "cell_type": "markdown",
   "metadata": {},
   "source": [
    "### Regression 2019-2020\n"
   ]
  },
  {
   "cell_type": "markdown",
   "metadata": {},
   "source": [
    "### 4)Null Hypothesis:\n",
    "Freedom to make life choices,Perceptions of corruption,\n",
    "Generosity,and  Healthy life expectancy will not effect the Happiness score"
   ]
  },
  {
   "cell_type": "code",
   "execution_count": null,
   "metadata": {},
   "outputs": [],
   "source": [
    "sns.pairplot(data=final_5, kind='reg', height =5,\n",
    "                  y_vars=['Score 2020'],\n",
    "                  x_vars=['Freedom to make life choices 2020',\"Perceptions of corruption 2020\",\n",
    "                           'Generosity 2020', 'Healthy life expectancy 2020'])\n",
    "sns.pairplot(data=final_5, kind='reg', height =5,\n",
    "                  y_vars=['Score 2019'],\n",
    "                  x_vars=['Freedom to make life choices 2019',\"Perceptions of corruption 2019\",\n",
    "                           'Generosity 2019', 'Healthy life expectancy 2019'])\n",
    "\n",
    "\n",
    "\n"
   ]
  },
  {
   "cell_type": "markdown",
   "metadata": {},
   "source": [
    " Freedom to make life choices-Healthy life expectancy 2020 & happines score scatter plot seems high correlation.\n",
    " rvalue and pvalue will clearify the Null Hypothesis"
   ]
  },
  {
   "cell_type": "code",
   "execution_count": null,
   "metadata": {},
   "outputs": [],
   "source": [
    "x_values = final_5[\"Freedom to make life choices 2020\"]\n",
    "y_values = final_5[\"Score 2020\"]\n",
    "(slope, intercept, rvalue, pvalue, stderr) = linregress(x_values, y_values)\n",
    "regress_values = x_values * slope + intercept\n",
    "line_eq = \"y = \" + str(round(slope,2)) + \"x + \" + str(round(intercept,2))\n",
    "plt.plot(x_values,regress_values,\"r-\")\n",
    "plt.annotate(line_eq,(0.02,7),fontsize=12,color=\"red\",)\n",
    "plt.scatter(x_values,y_values,alpha=0.5, edgecolors=\"k\")\n",
    "plt.title('Happiness&freedom 2020')\n",
    "plt.xlabel('Freedom to make life choices 2020')\n",
    "plt.ylabel('Score 2020')\n",
    "plt.show()\n",
    "\n",
    "print(rvalue)\n",
    "print(pvalue)\n"
   ]
  },
  {
   "cell_type": "markdown",
   "metadata": {},
   "source": [
    "r value=.5678 and modarate correlation coefficient.\n",
    "p<.05 and We will reject the Null Hypothesis.\n",
    "Freedom to make life choices 2020 effected the Happiness Score 2020.\n"
   ]
  },
  {
   "cell_type": "code",
   "execution_count": null,
   "metadata": {},
   "outputs": [],
   "source": [
    "x_values = final_5[\"Healthy life expectancy 2020\"]\n",
    "y_values = final_5[\"Score 2020\"]\n",
    "(slope, intercept, rvalue, pvalue, stderr) = linregress(x_values, y_values)\n",
    "regress_values = x_values * slope + intercept\n",
    "line_eq = \"y = \" + str(round(slope,2)) + \"x + \" + str(round(intercept,2))\n",
    "plt.plot(x_values,regress_values,\"r-\")\n",
    "plt.annotate(line_eq,(0.2,7.5),fontsize=12,color=\"red\",)\n",
    "plt.scatter(x_values,y_values,alpha=0.5, edgecolors=\"k\")\n",
    "plt.title('Happiness& Healthy life expectancy 2020')\n",
    "plt.xlabel('Healthy life expectancy 2020')\n",
    "plt.ylabel('Score 2020')\n",
    "plt.show()\n",
    "\n",
    "print(rvalue)\n",
    "print(pvalue)"
   ]
  },
  {
   "cell_type": "markdown",
   "metadata": {},
   "source": [
    "r value=.7761 and high correlation coefficient. p<.05 and We will reject the Null Hypothesis. \n",
    "\n",
    "We could make assumption when healthy life expectancy increases , happiness score will increase."
   ]
  },
  {
   "cell_type": "code",
   "execution_count": null,
   "metadata": {
    "scrolled": true
   },
   "outputs": [],
   "source": [
    "# x_values = final_5[\"Perceptions of corruption 2020\"]\n",
    "# y_values = final_5[\"Score 2020\"]\n",
    "# (slope, intercept, rvalue, pvalue, stderr) = linregress(x_values, y_values)\n",
    "# regress_values = x_values * slope + intercept\n",
    "# line_eq = \"y = \" + str(round(slope,2)) + \"x + \" + str(round(intercept,2))\n",
    "# plt.plot(x_values,regress_values,\"r-\")\n",
    "# plt.annotate(line_eq,(0.2,7.5),fontsize=12,color=\"red\",)\n",
    "# plt.scatter(x_values,y_values,alpha=0.5, edgecolors=\"k\")\n",
    "# plt.title('Perceptions of corruption &Happiness ')\n",
    "# plt.xlabel('Perceptions of corruption 2020')\n",
    "# plt.ylabel('Score 2020')\n",
    "# plt.show()\n",
    "\n",
    "# print(rvalue)\n",
    "# print(pvalue)\n",
    "# #r is <.5 but p<.05 what will be conclusion ."
   ]
  },
  {
   "cell_type": "code",
   "execution_count": null,
   "metadata": {},
   "outputs": [],
   "source": [
    "x_values = final_5[\"Generosity 2020\"]\n",
    "y_values = final_5[\"Score 2020\"]\n",
    "(slope, intercept, rvalue, pvalue, stderr) = linregress(x_values, y_values)\n",
    "regress_values = x_values * slope + intercept\n",
    "line_eq = \"y = \" + str(round(slope,2)) + \"x + \" + str(round(intercept,2))\n",
    "plt.plot(x_values,regress_values,\"r-\")\n",
    "plt.annotate(line_eq,(0.3,4),fontsize=12,color=\"red\")\n",
    "plt.scatter(x_values,y_values,alpha=0.5, edgecolors=\"k\")\n",
    "plt.title('Generosity &Happines 2020')\n",
    "plt.xlabel('Generosity ')\n",
    "plt.ylabel('Score')\n",
    "\n",
    "plt.show()\n",
    "print(rvalue)\n",
    "print(pvalue)\n"
   ]
  },
  {
   "cell_type": "markdown",
   "metadata": {},
   "source": [
    "r=.1159 shows weak correlation  and p>.05,we will fail to reject the null hypothesis.\n",
    "Generosity score 2020 did not affect the happiness score 2020."
   ]
  },
  {
   "cell_type": "code",
   "execution_count": null,
   "metadata": {},
   "outputs": [],
   "source": []
  },
  {
   "cell_type": "code",
   "execution_count": null,
   "metadata": {},
   "outputs": [],
   "source": []
  },
  {
   "cell_type": "code",
   "execution_count": null,
   "metadata": {},
   "outputs": [],
   "source": []
  },
  {
   "cell_type": "code",
   "execution_count": null,
   "metadata": {},
   "outputs": [],
   "source": [
    "final_5.head(2)\n"
   ]
  },
  {
   "cell_type": "code",
   "execution_count": null,
   "metadata": {},
   "outputs": [],
   "source": [
    "region= final_5.groupby('Region')\n",
    "\n",
    "region['Score 2019'].describe().sort_values(by=\"mean\",ascending=True).head(10)\n",
    "region.head()\n",
    "region_df=pd.DataFrame(region)"
   ]
  },
  {
   "cell_type": "code",
   "execution_count": null,
   "metadata": {},
   "outputs": [],
   "source": [
    "region['Score 2020'].describe().sort_values(by=\"mean\",ascending=True).head(10)\n"
   ]
  },
  {
   "cell_type": "code",
   "execution_count": null,
   "metadata": {},
   "outputs": [],
   "source": [
    "#BAR GRAPH BY REGION\n",
    "region_country20=region[\"Country name\"].count()\n",
    "region_happiness20=region[\"Score 2020\"].mean()\n",
    "region_fredoom20=region[\"Freedom to make life choices 2020\"].mean()\n",
    "region_country19=region[\"Country name\"].count()\n",
    "region_happiness19=region[\"Score 2019\"].mean()\n",
    "region_fredoom19=region[\"Freedom to make life choices 2019\"].mean()\n",
    "\n",
    "# print(region_happiness)\n",
    "region_x=pd.DataFrame({\"Average Happines Score 2020\":region_happiness20,\n",
    "                        \"Average Fredoom Score 2020\":region_fredoom20,\n",
    "                        \"Average Happines Score 2019\":region_happiness19,\n",
    "                        \"Average Fredoom Score 2019\":region_fredoom19})\n",
    "region_x\n",
    "\n"
   ]
  },
  {
   "cell_type": "code",
   "execution_count": null,
   "metadata": {},
   "outputs": [],
   "source": [
    "region_x[[\"Average Fredoom Score 2020\", \"Average Fredoom Score 2019\",\n",
    "           'Average Happines Score 2020',\"Average Happines Score 2019\"]].plot(kind='barh',\n",
    "                                                                xticks=np.arange(9), figsize= (10, 8))\n",
    "plt.xlabel(\"Happiness Score\")\n",
    "plt.title('Happiness Score of the top 10 Countries')\n",
    "plt.legend(bbox_to_anchor=(1.05, 1), loc=2, borderaxespad=0.)\n"
   ]
  },
  {
   "cell_type": "code",
   "execution_count": null,
   "metadata": {},
   "outputs": [],
   "source": [
    "final_5_df.boxplot(\"Perceptions of corruption 2020\", by=\"Region\", figsize=(20, 10), rot=60, fontsize=16)"
   ]
  },
  {
   "cell_type": "code",
   "execution_count": null,
   "metadata": {},
   "outputs": [],
   "source": [
    "region1 = final_5_df[final_5_df[\"Region\"] == \"Central and Eastern Europe\"][\"Perceptions of corruption 2020\"]\n",
    "region2 = final_5_df[final_5_df[\"Region\"] ==\"Sub-Saharan Africa\"][\"Perceptions of corruption 2020\"]\n",
    "region3 = final_5_df[final_5_df[\"Region\"] == \"East Asia\"][\"Perceptions of corruption 2020\"]\n",
    "region4 = final_5_df[final_5_df[\"Region\"] == \"Latin America and Caribbean\"][\"Perceptions of corruption 2020\"]\n",
    "region5 =final_5_df[final_5_df[\"Region\"]  == \"Middle East and Northern Africa\"][\"Perceptions of corruption 2020\"]\n",
    "region6 = final_5_df[final_5_df[\"Region\"] == \"Australia and New Zealand\"][\"Perceptions of corruption 2020\"]\n",
    "region7 = final_5_df[final_5_df[\"Region\"] == \"North America\"][\"Perceptions of corruption 2020\"]\n",
    "region8 = final_5_df[final_5_df[\"Region\"] == \"Southeastern Asia\"][\"Perceptions of corruption 2020\"]\n",
    "region9 = final_5_df[final_5_df[\"Region\"] == \"Southern Asia\"][\"Perceptions of corruption 2020\"]\n",
    "region10 = final_5_df[final_5_df[\"Region\"] == \"Western Europe\"][\"Perceptions of corruption 2020\"]\n"
   ]
  },
  {
   "cell_type": "markdown",
   "metadata": {},
   "source": [
    "Annova test for region corruption 2020"
   ]
  },
  {
   "cell_type": "code",
   "execution_count": null,
   "metadata": {},
   "outputs": [],
   "source": [
    "# stats.f_oneway(region1, region2, region3, region4, region5, region6, region7, region8, region9, region10)\n"
   ]
  },
  {
   "cell_type": "code",
   "execution_count": null,
   "metadata": {},
   "outputs": [],
   "source": [
    "sns.pairplot(data=final_5, height =3, hue='Region',\n",
    "                  y_vars=['Score 2019'],\n",
    "                  x_vars=['Freedom to make life choices 2019',\"Perceptions of corruption 2019\",\n",
    "                         'Generosity 2019', 'Healthy life expectancy 2019'])\n",
    "sns.pairplot(data=final_5, height= 3, hue='Region',\n",
    "                  y_vars=['Score 2020'],\n",
    "                  x_vars=['Freedom to make life choices 2020',\"Perceptions of corruption 2020\",\n",
    "                          'Generosity 2020', 'Healthy life expectancy 2020'])"
   ]
  },
  {
   "cell_type": "code",
   "execution_count": null,
   "metadata": {},
   "outputs": [],
   "source": [
    "#try to get pie graph"
   ]
  },
  {
   "cell_type": "markdown",
   "metadata": {},
   "source": [
    "heat map"
   ]
  },
  {
   "cell_type": "code",
   "execution_count": null,
   "metadata": {},
   "outputs": [],
   "source": [
    "gmaps.configure(g_key)\n",
    "# Read in teh csv containing world centroid coordinates\n",
    "centroids_df = pd.read_csv('Resources/country_centroids.csv')\n",
    "# centroids_df\n",
    "# centroids_df.columns"
   ]
  },
  {
   "cell_type": "code",
   "execution_count": null,
   "metadata": {},
   "outputs": [],
   "source": [
    "organize_df = centroids_df[[\"name\", \"Longitude\", \"Latitude\"]]\n",
    "organize_df.head(2)"
   ]
  },
  {
   "cell_type": "code",
   "execution_count": null,
   "metadata": {},
   "outputs": [],
   "source": [
    "#Merge the datasets using the countries\n",
    "location_data = pd.merge(final_5, organize_df, how=\"inner\", left_on=\"Country name\", right_on=\"name\")\n",
    "location_data\n",
    "#Save the updated dataframe as a csv\n",
    "location_data.to_csv(\"Resources/world_location_data.csv\", encoding=\"utf-8\", index=False)\n",
    "location_data.head(2)"
   ]
  },
  {
   "cell_type": "code",
   "execution_count": null,
   "metadata": {},
   "outputs": [],
   "source": [
    "final_location_data = location_data.dropna()\n",
    "final_location_data.head(2)"
   ]
  },
  {
   "cell_type": "code",
   "execution_count": null,
   "metadata": {},
   "outputs": [],
   "source": [
    "# convert score 2020 as a list\n",
    "happiness_country = final_location_data[\"Country name\"].tolist()\n",
    "\n",
    "#Create a map using world centroid cooridnates to set markers\n",
    "marker_locations = final_location_data[['Latitude', 'Longitude']]\n",
    "#Create a marker_layer using the poverty list to fill the info box\n",
    "fig = gmaps.figure(center=(0,0),zoom_level=2)\n",
    "markers = gmaps.marker_layer(marker_locations, info_box_content=[f\"Score 2020: {country}\" for country in happiness_country])\n",
    "fig.add_layer(markers)\n",
    "fig\n",
    "\n",
    "\n",
    "\n",
    "\n",
    "\n"
   ]
  },
  {
   "cell_type": "code",
   "execution_count": null,
   "metadata": {},
   "outputs": [],
   "source": [
    "# Store 'Lat' and 'Lng' into  locations\n",
    "# Convert Score 2020 to float and store\n",
    "locations = final_location_data[[\"Latitude\", \"Longitude\"]].astype(float)\n",
    "world_happiness2020 = final_location_data[\"Score 2020\"].astype(float)\n",
    "\n",
    "# Create a  Heatmap layer\n",
    "fig = gmaps.figure(center=(0,0),zoom_level=2)\n",
    "heat_layer = gmaps.heatmap_layer(locations, weights=world_happiness2020,\n",
    "                                 dissipating=False, max_intensity=8,\n",
    "                                 point_radius = 4)\n",
    "fig.add_layer(heat_layer)\n",
    "fig\n",
    "\n",
    "\n",
    "\n",
    "\n"
   ]
  },
  {
   "cell_type": "code",
   "execution_count": null,
   "metadata": {},
   "outputs": [],
   "source": []
  }
 ],
 "metadata": {
  "kernelspec": {
   "display_name": "Python 3",
   "language": "python",
   "name": "python3"
  },
  "language_info": {
   "codemirror_mode": {
    "name": "ipython",
    "version": 3
   },
   "file_extension": ".py",
   "mimetype": "text/x-python",
   "name": "python",
   "nbconvert_exporter": "python",
   "pygments_lexer": "ipython3",
   "version": "3.6.10"
  }
 },
 "nbformat": 4,
 "nbformat_minor": 4
}
